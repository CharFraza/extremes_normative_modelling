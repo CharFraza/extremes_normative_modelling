{
 "cells": [
  {
   "cell_type": "markdown",
   "metadata": {},
   "source": [
    "# Behavioural validation of the extreme PCA"
   ]
  },
  {
   "cell_type": "markdown",
   "metadata": {
    "slideshow": {
     "slide_type": "slide"
    }
   },
   "source": [
    "Run the MVET_IDP_PCA.ipynb first to find the extreme principal components (PCs).\n",
    "In this script we are going to look at the correlation between the first two extreme PCs and several behavioural measures from the UKB."
   ]
  },
  {
   "cell_type": "code",
   "execution_count": 1,
   "metadata": {
    "ExecuteTime": {
     "end_time": "2024-10-03T08:24:44.404020Z",
     "start_time": "2024-10-03T08:24:40.557661Z"
    }
   },
   "outputs": [
    {
     "data": {
      "text/plain": [
       "<Figure size 432x288 with 0 Axes>"
      ]
     },
     "metadata": {},
     "output_type": "display_data"
    }
   ],
   "source": [
    "import numpy as np\n",
    "import pandas as pd\n",
    "import seaborn as sns\n",
    "from matplotlib import pyplot as plt\n",
    "from scipy import stats\n",
    "from sklearn.preprocessing import MinMaxScaler\n",
    "from scipy.stats import spearmanr\n",
    "from sklearn.model_selection import train_test_split\n",
    "from sklearn import linear_model, metrics\n",
    "#sns.set(style='whitegrid')\n",
    "sns.set(style='ticks', palette='Set2')\n",
    "sns.despine()"
   ]
  },
  {
   "cell_type": "code",
   "execution_count": 2,
   "metadata": {
    "ExecuteTime": {
     "end_time": "2024-10-03T08:24:44.411841Z",
     "start_time": "2024-10-03T08:24:44.408436Z"
    }
   },
   "outputs": [],
   "source": [
    "from matplotlib import rcParams\n",
    "rcParams['font.family'] = \"sans-serif\"\n",
    "rcParams['font.sans-serif'] = \"Arial\"\n",
    "colors = ['#2e3037', '#90e6e2', '#666666', '#f35b6a', '#fbb2b9', '#999fa9', '#39c0ba', '#e2e7ee']"
   ]
  },
  {
   "cell_type": "code",
   "execution_count": 3,
   "metadata": {
    "ExecuteTime": {
     "end_time": "2024-10-03T08:24:44.436878Z",
     "start_time": "2024-10-03T08:24:44.416165Z"
    },
    "code_folding": [
     0
    ]
   },
   "outputs": [],
   "source": [
    "def retrieve_UKBB_covariates(csv_file_path, fields_code_list, fileds_name_list, \n",
    "                             save_path = None, drop_nans = True):\n",
    "    '''\n",
    "    Example:\n",
    "        csv_file_path = '/project_freenas/3022017.02/UKB/phenotypes/ukb35187.csv'\n",
    "        save_path =  '/project_freenas/3022017.02/UKB/phenotypes/test.csv'\n",
    "        fields_code_list = ['21003-2.0', '31-0.0', '54-2.0']\n",
    "        fileds_name_list = ['age', 'gender', 'site_id']\n",
    "        \n",
    "        covariates, subs = retrieve_UKBB_covariates(csv_file_path, fields_code_list, \n",
    "                                          fileds_name_list, save_path)\n",
    "    '''\n",
    "    \n",
    "    ukbb_covariates = pd.read_csv(csv_file_path, encoding= 'unicode_escape', \n",
    "                                   usecols=['eid'] + fields_code_list)\n",
    "    if drop_nans:\n",
    "        ukbb_covariates = ukbb_covariates.dropna()\n",
    "    ukbb_subs = list(ukbb_covariates['eid'])\n",
    "    ukbb_subs = [str(u) for u in ukbb_subs]\n",
    "    ukbb_covariates['eid'] = ukbb_subs\n",
    "    ukbb_covariates = ukbb_covariates.set_index('eid')\n",
    "    c = dict()\n",
    "    for i, code in enumerate(fields_code_list):\n",
    "        c[code] = fileds_name_list[i]\n",
    "    ukbb_covariates = ukbb_covariates.rename(columns=c)\n",
    "    if save_path is not None:\n",
    "        ukbb_covariates.to_csv(save_path)\n",
    "    return ukbb_covariates, ukbb_subs"
   ]
  },
  {
   "cell_type": "markdown",
   "metadata": {},
   "source": [
    "# Fluid intelligence\n",
    "First we will look with a bit more detail at fluid intelligence, as this is usually used to validate a new method."
   ]
  },
  {
   "cell_type": "code",
   "execution_count": 4,
   "metadata": {
    "ExecuteTime": {
     "end_time": "2024-10-03T08:24:58.446020Z",
     "start_time": "2024-10-03T08:24:44.438060Z"
    }
   },
   "outputs": [],
   "source": [
    "# Remove num memory, for very few participants and pros mem, as categorical\n",
    "# https://biobank.ctsu.ox.ac.uk/crystal/label.cgi?id=100026\n",
    "cp_code_list = [#'4282-2.0', # Numeric memory\n",
    "                '20016-2.0', # Reasoning/fluid int\n",
    "                #'20023-2.0', # Reaction time\n",
    "                #'399-2.2', # Visual memory, pair matching\n",
    "                #'21004-2.0', # tower_rearranging, number puzzles correct\n",
    "                #'6348-2.0', # duration trail n\n",
    "                #'6350-2.0', # duration trail a\n",
    "                #'6373-2.0', # matrix pattern puzzles solved\n",
    "                #'23324-2.0' # digits matched correctly\n",
    "               ] #  399 had 3 pair and 6 pair\n",
    "cp_name_list = [#'Numeric_memory',\n",
    "                'Fluid_intelligence', \n",
    "                #'Reaction_time', \n",
    "                #'Visual_memory', \n",
    "                #'tower_rearranging', \n",
    "                #'trail_making_n', \n",
    "                #'trail_making_a',\n",
    "                #'matrix_pattern_completion', \n",
    "                #'symbol_digit_substitution'\n",
    "               ] #'numeric_memory'\n",
    "#CPs, subs = retrieve_UKBB_covariates('/project_freenas/3022017.02/UKB/phenotypes/current/32_cognitive_phenotypes.csv', cp_code_list, cp_name_list)\n",
    "CPs, subs = retrieve_UKBB_covariates('/project_cephfs/3022017.06/UKB/phenotypes/current/32_cognitive_phenotypes.csv', cp_code_list, cp_name_list)"
   ]
  },
  {
   "cell_type": "markdown",
   "metadata": {},
   "source": [
    "## Preprocess the behavioural data\n",
    "1. To make the data more Gaussian transfer some to log space\n",
    "2. Normalize before PCA, as PCA tries to maximize the variance, and otherwise the largest component will explain the most variance. "
   ]
  },
  {
   "cell_type": "code",
   "execution_count": 5,
   "metadata": {
    "ExecuteTime": {
     "end_time": "2024-10-03T08:24:58.533785Z",
     "start_time": "2024-10-03T08:24:58.452355Z"
    }
   },
   "outputs": [],
   "source": [
    "#CPs['Reaction_time'] = np.log(CPs['Reaction_time'])\n",
    "#CPs['Visual_memory'] = np.log(CPs['Visual_memory']+1)\n",
    "scaler = MinMaxScaler()\n",
    "CPs_scaled = scaler.fit_transform(CPs)\n",
    "CPs_scaled_df = pd.DataFrame(data = CPs_scaled, columns = CPs.columns)\n",
    "CPs_scaled_df.describe()\n",
    "CPs_scaled_df.index = list(map(int,subs))"
   ]
  },
  {
   "cell_type": "code",
   "execution_count": 6,
   "metadata": {
    "ExecuteTime": {
     "end_time": "2024-10-03T08:24:58.978372Z",
     "start_time": "2024-10-03T08:24:58.535426Z"
    },
    "scrolled": false
   },
   "outputs": [
    {
     "data": {
      "image/png": "[encoded data removed]",
      "text/plain": [
       "<Figure size 432x288 with 1 Axes>"
      ]
     },
     "metadata": {
      "needs_background": "light"
     },
     "output_type": "display_data"
    }
   ],
   "source": [
    "for cp in cp_name_list:\n",
    "    plt.figure()\n",
    "    sns.histplot(data=CPs_scaled_df[cp], bins = 20)"
   ]
  },
  {
   "cell_type": "markdown",
   "metadata": {
    "ExecuteTime": {
     "end_time": "2022-03-22T09:18:15.776943Z",
     "start_time": "2022-03-22T09:18:15.764359Z"
    },
    "scrolled": true
   },
   "source": [
    "## Select standard PC or extreme PC\n",
    "Select the participants that have both the PCs (brain data) and the CPs data available. \n",
    "Select if you want the standard space PCs (PCs_ss.csv) or the extreme PCs (PCs.csv)"
   ]
  },
  {
   "cell_type": "code",
   "execution_count": 7,
   "metadata": {
    "ExecuteTime": {
     "end_time": "2024-10-03T08:25:33.434483Z",
     "start_time": "2024-10-03T08:24:58.982528Z"
    }
   },
   "outputs": [],
   "source": [
    "Z_df = pd.read_csv('/project_cephfs/3022017.06/projects/big_data/data/ukb_processed_4/deviation_scores.csv', index_col=0)"
   ]
  },
  {
   "cell_type": "code",
   "execution_count": 8,
   "metadata": {
    "ExecuteTime": {
     "end_time": "2024-10-03T08:25:37.674556Z",
     "start_time": "2024-10-03T08:25:33.444611Z"
    }
   },
   "outputs": [],
   "source": [
    "standard = False #else extreme\n",
    "if standard:\n",
    "    PCs_df = pd.read_csv('/home/preclineu/chafra/Desktop/code_phd/data/data/PCs_ss.csv')\n",
    "    ending = 'standard'\n",
    "else:\n",
    "    PCs_df = pd.read_csv('/home/preclineu/chafra/Desktop/code_phd/data/data/PCs.csv')\n",
    "    ending = 'extreme'\n",
    "\n",
    "PCs_df.index = Z_df.index"
   ]
  },
  {
   "cell_type": "code",
   "execution_count": 9,
   "metadata": {
    "ExecuteTime": {
     "end_time": "2024-10-03T08:25:37.774763Z",
     "start_time": "2024-10-03T08:25:37.682011Z"
    }
   },
   "outputs": [],
   "source": [
    "CPs_scaled_df_dep = CPs_scaled_df.loc[CPs_scaled_df.index.intersection(PCs_df.index)]\n",
    "PCs_df_dep = pd.DataFrame(PCs_df.loc[CPs_scaled_df.index.intersection(PCs_df.index)])\n",
    "CPs_PCs_df = pd.concat([CPs_scaled_df_dep, PCs_df_dep], axis=1)\n",
    "#sns.pairplot(data = CPs_PCs_df.iloc[:,0:10], corner=True)"
   ]
  },
  {
   "cell_type": "markdown",
   "metadata": {},
   "source": [
    "## Correlation PC and fluid intelligence "
   ]
  },
  {
   "cell_type": "code",
   "execution_count": 10,
   "metadata": {
    "ExecuteTime": {
     "end_time": "2024-10-03T08:25:42.538913Z",
     "start_time": "2024-10-03T08:25:37.776097Z"
    },
    "scrolled": true
   },
   "outputs": [],
   "source": [
    "rho = np.zeros(np.shape(PCs_df_dep)[1])\n",
    "p = np.zeros(np.shape(PCs_df_dep)[1])\n",
    "for i in range(np.shape(PCs_df_dep)[1]):\n",
    "    rho[i], p[i] = stats.spearmanr(CPs_scaled_df_dep, PCs_df_dep.iloc[:,i])\n",
    "    #print('stat:', rho[i], 'pval:', p[i])"
   ]
  },
  {
   "cell_type": "code",
   "execution_count": 11,
   "metadata": {
    "ExecuteTime": {
     "end_time": "2024-10-03T08:25:42.556946Z",
     "start_time": "2024-10-03T08:25:42.552803Z"
    }
   },
   "outputs": [],
   "source": [
    "p_df = pd.DataFrame(p, columns=['pvalue'])\n",
    "p_df = p_df.reset_index()"
   ]
  },
  {
   "cell_type": "markdown",
   "metadata": {},
   "source": [
    "# Correlation non-IDPs\n",
    "\n",
    "Correlate the first two extreme PCs to different non IDP values, using a standard spearmanr correlation. The spearmanr correlation does not assume that both distributions are normally distributed. \n",
    "\n",
    "Code based on this amazing paper: \n",
    "- Non-linearity matters: a deep learning solution to generalization of hidden brain patterns across population cohorts Mariam Zabihi."
   ]
  },
  {
   "cell_type": "code",
   "execution_count": 12,
   "metadata": {
    "ExecuteTime": {
     "end_time": "2024-10-03T08:25:43.430571Z",
     "start_time": "2024-10-03T08:25:42.573223Z"
    }
   },
   "outputs": [],
   "source": [
    "PCs=PCs_df.iloc[:,0:3]\n",
    "nIDP_df=pd.read_csv('/project_cephfs/3022017.06/projects/big_data/data/nIDPs.csv',index_col=0)\n",
    "data_dictionary=pd.read_csv('/home/preclineu/chafra/Desktop/code_phd/EVT/data_dictionary.csv',index_col=0)\n",
    "nIDP_df = nIDP_df.set_index('Subject')"
   ]
  },
  {
   "cell_type": "code",
   "execution_count": 13,
   "metadata": {
    "ExecuteTime": {
     "end_time": "2024-10-03T08:25:47.351712Z",
     "start_time": "2024-10-03T08:25:43.438535Z"
    },
    "run_control": {
     "marked": true
    },
    "scrolled": true
   },
   "outputs": [
    {
     "data": {
      "text/html": [
       "<div>\n",
       "<style scoped>\n",
       "    .dataframe tbody tr th:only-of-type {\n",
       "        vertical-align: middle;\n",
       "    }\n",
       "\n",
       "    .dataframe tbody tr th {\n",
       "        vertical-align: top;\n",
       "    }\n",
       "\n",
       "    .dataframe thead th {\n",
       "        text-align: right;\n",
       "    }\n",
       "</style>\n",
       "<table border=\"1\" class=\"dataframe\">\n",
       "  <thead>\n",
       "    <tr style=\"text-align: right;\">\n",
       "      <th></th>\n",
       "      <th>nIDPs</th>\n",
       "      <th>FieldID-instance</th>\n",
       "      <th>nIDP_category</th>\n",
       "      <th>Field</th>\n",
       "      <th>PC1</th>\n",
       "      <th>PC2</th>\n",
       "      <th>PC3</th>\n",
       "    </tr>\n",
       "  </thead>\n",
       "  <tbody>\n",
       "    <tr>\n",
       "      <th>0</th>\n",
       "      <td>0</td>\n",
       "      <td>398-2.3</td>\n",
       "      <td>cognitive_phenotypes</td>\n",
       "      <td>Number of correct matches in round</td>\n",
       "      <td>1.796952</td>\n",
       "      <td>3.281780</td>\n",
       "      <td>1.922340</td>\n",
       "    </tr>\n",
       "    <tr>\n",
       "      <th>1</th>\n",
       "      <td>1</td>\n",
       "      <td>399-2.1</td>\n",
       "      <td>cognitive_phenotypes</td>\n",
       "      <td>Number of incorrect matches in round</td>\n",
       "      <td>6.019004</td>\n",
       "      <td>12.820235</td>\n",
       "      <td>1.393820</td>\n",
       "    </tr>\n",
       "    <tr>\n",
       "      <th>2</th>\n",
       "      <td>2</td>\n",
       "      <td>399-2.2</td>\n",
       "      <td>cognitive_phenotypes</td>\n",
       "      <td>Number of incorrect matches in round</td>\n",
       "      <td>0.604042</td>\n",
       "      <td>6.327577</td>\n",
       "      <td>1.357693</td>\n",
       "    </tr>\n",
       "    <tr>\n",
       "      <th>3</th>\n",
       "      <td>3</td>\n",
       "      <td>399-2.3</td>\n",
       "      <td>cognitive_phenotypes</td>\n",
       "      <td>Number of incorrect matches in round</td>\n",
       "      <td>1.332634</td>\n",
       "      <td>1.019978</td>\n",
       "      <td>0.830405</td>\n",
       "    </tr>\n",
       "    <tr>\n",
       "      <th>4</th>\n",
       "      <td>4</td>\n",
       "      <td>400-2.1</td>\n",
       "      <td>cognitive_phenotypes</td>\n",
       "      <td>Time to complete round</td>\n",
       "      <td>3.369264</td>\n",
       "      <td>19.542107</td>\n",
       "      <td>2.796396</td>\n",
       "    </tr>\n",
       "  </tbody>\n",
       "</table>\n",
       "</div>"
      ],
      "text/plain": [
       "   nIDPs FieldID-instance         nIDP_category  \\\n",
       "0      0          398-2.3  cognitive_phenotypes   \n",
       "1      1          399-2.1  cognitive_phenotypes   \n",
       "2      2          399-2.2  cognitive_phenotypes   \n",
       "3      3          399-2.3  cognitive_phenotypes   \n",
       "4      4          400-2.1  cognitive_phenotypes   \n",
       "\n",
       "                                  Field       PC1        PC2       PC3  \n",
       "0    Number of correct matches in round  1.796952   3.281780  1.922340  \n",
       "1  Number of incorrect matches in round  6.019004  12.820235  1.393820  \n",
       "2  Number of incorrect matches in round  0.604042   6.327577  1.357693  \n",
       "3  Number of incorrect matches in round  1.332634   1.019978  0.830405  \n",
       "4                Time to complete round  3.369264  19.542107  2.796396  "
      ]
     },
     "execution_count": 13,
     "metadata": {},
     "output_type": "execute_result"
    }
   ],
   "source": [
    "X = PCs.join(nIDP_df)\n",
    "P = pd.DataFrame()\n",
    "for nIDP in nIDP_df: \n",
    "    df=X[['V1','V2', 'V3' ,nIDP]]\n",
    "    df = df.dropna()\n",
    "    r,p=spearmanr(df[['V1','V2', 'V3']],df[nIDP])\n",
    "    pvalue=pd.DataFrame(columns=['FieldID-instance'],data=[nIDP])\n",
    "    pvalue[['PC1','PC2', 'PC3']]=[-np.log10(p[3,:3])]\n",
    "    P=pd.concat([P,pvalue])\n",
    "    \n",
    "Pvalue=pd.merge(data_dictionary[['FieldID-instance','nIDP_category','Field']],P,how='inner',on='FieldID-instance')\n",
    "Pvalue=Pvalue.reset_index()\n",
    "Pvalue=Pvalue.rename(columns={'index':'nIDPs'})\n",
    "Pvalue=Pvalue.drop(Pvalue[Pvalue['nIDP_category']=='age_sex_site'].index)\n",
    "Pvalue.head()"
   ]
  },
  {
   "cell_type": "markdown",
   "metadata": {},
   "source": [
    "Manhattan plot of the p-values for the univariate correlation of non-imaging measures with the first two extreme PCAs and the standard PCAs. The black line shows the Bonferonni-corrected p-value threshold.\n",
    "We use the log10 scale, so we have to look at values that pass the black line."
   ]
  },
  {
   "cell_type": "code",
   "execution_count": 14,
   "metadata": {
    "ExecuteTime": {
     "end_time": "2024-10-03T08:25:47.363641Z",
     "start_time": "2024-10-03T08:25:47.356119Z"
    }
   },
   "outputs": [
    {
     "name": "stdout",
     "output_type": "stream",
     "text": [
      "PCA1, Number of correlations passing p-value: 51\n",
      "PCA2, Number of correlations passing p-value: 135\n",
      "PCA3, Number of correlations passing p-value: 37\n"
     ]
    }
   ],
   "source": [
    "print(f'PCA1, Number of correlations passing p-value: {np.sum(P.iloc[:,1]>-np.log10(.05/len(P)))}')\n",
    "print(f'PCA2, Number of correlations passing p-value: {np.sum(P.iloc[:,2]>-np.log10(.05/len(P)))}')\n",
    "print(f'PCA3, Number of correlations passing p-value: {np.sum(P.iloc[:,3]>-np.log10(.05/len(P)))}')"
   ]
  },
  {
   "cell_type": "markdown",
   "metadata": {},
   "source": [
    "## Correlation diagnosis and extreme PCAs\n",
    "The IDP codes can be found here:\n",
    "https://biobank.ndph.ox.ac.uk/showcase/coding.cgi?id=6\n",
    "We will look at two diagnosis that we expect to have extreme values:\n",
    "chronic/degenerative neurological problem:\n",
    "- motor neurone disease (69) - 1259\n",
    "- myasthenia gravis (59) - 1260\n",
    "- multiple sclerosis (1995) - 1261\n",
    "- parkinsons disease (1011) - 1262\n",
    "- dementia/alzheimers/cognitive impairment (154) - 1263\n",
    "- other demyelinating disease (not multiple sclerosis) (81) - 1397"
   ]
  },
  {
   "cell_type": "code",
   "execution_count": 15,
   "metadata": {
    "ExecuteTime": {
     "end_time": "2024-10-03T08:25:47.377004Z",
     "start_time": "2024-10-03T08:25:47.368789Z"
    },
    "scrolled": true
   },
   "outputs": [],
   "source": [
    "#df = pd.read_csv(\"/project_cephfs/3022017.06/UKB/phenotypes/current/50_health_outcomes_headers.csv\")\n",
    "#diagnosis_ids = [col for col in df if col.startswith('20002')]\n",
    "#diagnosis_ids.append('eid')\n",
    "#diagnosis_df = pd.read_csv(\"/project_cephfs/3022017.06/UKB/phenotypes/current/50_health_outcomes.csv\") #, usecols = diagnosis_ids)\n",
    "#diagnosis_df = diagnosis_df.set_index('eid')"
   ]
  },
  {
   "cell_type": "code",
   "execution_count": 16,
   "metadata": {
    "ExecuteTime": {
     "end_time": "2024-10-03T08:29:06.888591Z",
     "start_time": "2024-10-03T08:25:47.381621Z"
    }
   },
   "outputs": [
    {
     "name": "stdout",
     "output_type": "stream",
     "text": [
      "Number of subject with a neurological problem: \n",
      "eid             1764664199487\n",
      "20002-0.1259               68\n",
      "20002-0.1260               58\n",
      "20002-0.1261             1850\n",
      "20002-0.1262              997\n",
      "20002-0.1263              164\n",
      "20002-0.1397               80\n",
      "dtype: int64\n"
     ]
    }
   ],
   "source": [
    "degenerative_df = pd.read_csv(\"/project_cephfs/3022017.06/UKB/phenotypes/current/50_health_outcomes.csv\", usecols=['eid','20002-0.1259', '20002-0.1260', '20002-0.1261', '20002-0.1262', '20002-0.1263', '20002-0.1397'])\n",
    "print(f'Number of subject with a neurological problem: \\n{degenerative_df.sum()}')\n",
    "degenerative_df = degenerative_df.set_index('eid')"
   ]
  },
  {
   "cell_type": "markdown",
   "metadata": {},
   "source": [
    "We want to correlate a continious variable with a binary variable, so we have to use the Point-Biserial Correlation"
   ]
  },
  {
   "cell_type": "code",
   "execution_count": 19,
   "metadata": {
    "ExecuteTime": {
     "end_time": "2024-10-03T08:29:07.419478Z",
     "start_time": "2024-10-03T08:29:06.953454Z"
    }
   },
   "outputs": [
    {
     "name": "stdout",
     "output_type": "stream",
     "text": [
      "Number of subject with a neurological problems and brain data: 240\n"
     ]
    }
   ],
   "source": [
    "# Select only participants that also have brain data\n",
    "degenerative_df = degenerative_df.loc[degenerative_df.index.intersection(PCs_df.index)]\n",
    "PCs_df_dep = PCs_df.loc[degenerative_df.index]\n",
    "print(f'Number of subject with a neurological problems and brain data: {degenerative_df.sum().sum()}')"
   ]
  },
  {
   "cell_type": "code",
   "execution_count": 20,
   "metadata": {
    "ExecuteTime": {
     "end_time": "2024-10-03T08:29:07.629966Z",
     "start_time": "2024-10-03T08:29:07.434903Z"
    },
    "run_control": {
     "marked": true
    },
    "scrolled": true
   },
   "outputs": [],
   "source": [
    "PCs=PCs_df.iloc[:,0:3]\n",
    "X = PCs.join(degenerative_df)\n",
    "P = pd.DataFrame()\n",
    "for nIDP in degenerative_df: \n",
    "    df=X[['V1','V2', 'V3',nIDP]]\n",
    "    df = df.dropna()\n",
    "    r1, p1 = stats.pointbiserialr(df['V1'],df[nIDP])\n",
    "    r2, p2 = stats.pointbiserialr(df['V2'],df[nIDP])\n",
    "    r3, p3 = stats.pointbiserialr(df['V3'],df[nIDP])\n",
    "    pvalue=pd.DataFrame(columns=['FieldID-instance'],data=[nIDP])\n",
    "    pvalue['PC1'] = -np.log10(p1)\n",
    "    pvalue['PC2'] = -np.log10(p2)\n",
    "    pvalue['PC3'] = -np.log10(p3)\n",
    "    P=pd.concat([P,pvalue])    "
   ]
  },
  {
   "cell_type": "code",
   "execution_count": 21,
   "metadata": {
    "ExecuteTime": {
     "end_time": "2024-10-03T08:29:07.660988Z",
     "start_time": "2024-10-03T08:29:07.637266Z"
    }
   },
   "outputs": [],
   "source": [
    "P['nIDP_category'] = 'neurodegenerative_disorders'\n",
    "P['Field'] = ['motor neurone disease', 'myasthenia gravis', 'multiple sclerosis', 'parkinsons disease', 'dementia/alzheimers/cognitive-impairment', 'other demyelinating disease']"
   ]
  },
  {
   "cell_type": "code",
   "execution_count": 22,
   "metadata": {
    "ExecuteTime": {
     "end_time": "2024-10-03T08:29:07.703237Z",
     "start_time": "2024-10-03T08:29:07.669019Z"
    }
   },
   "outputs": [],
   "source": [
    "Pvalue_all = pd.concat([P, Pvalue.drop('nIDPs', axis=1)])\n",
    "Pvalue_all = Pvalue_all.reset_index(drop=True).reset_index()\n",
    "Pvalue_all=Pvalue_all.rename(columns={'index':'nIDPs'})"
   ]
  },
  {
   "cell_type": "code",
   "execution_count": 23,
   "metadata": {
    "ExecuteTime": {
     "end_time": "2024-10-03T08:29:07.728536Z",
     "start_time": "2024-10-03T08:29:07.709551Z"
    }
   },
   "outputs": [
    {
     "data": {
      "text/plain": [
       "nIDP_category\n",
       "cognitive_phenotypes                   199\n",
       "lifestyle_environment_alcohol            9\n",
       "lifestyle_environment_exercise_work     37\n",
       "lifestyle_environment_general           44\n",
       "lifestyle_environment_tobacco            4\n",
       "mental_health                           29\n",
       "neurodegenerative_disorders              6\n",
       "dtype: int64"
      ]
     },
     "execution_count": 23,
     "metadata": {},
     "output_type": "execute_result"
    }
   ],
   "source": [
    "Pvalue_all.groupby(['nIDP_category']).size()"
   ]
  },
  {
   "cell_type": "code",
   "execution_count": 24,
   "metadata": {
    "ExecuteTime": {
     "end_time": "2024-10-03T08:29:07.751028Z",
     "start_time": "2024-10-03T08:29:07.732816Z"
    }
   },
   "outputs": [],
   "source": [
    "n=0\n",
    "for item in Pvalue_all.nIDP_category.unique():\n",
    "    labels =['neurodegenerative disorders', 'cognitive phenotypes',\n",
    "                                                  'lifestyle environment alcohol',\n",
    "                                                  'lifestyle environment tobacco', 'lifestyle environment general', 'lifestyle environment exercise work', 'mental health']\n",
    "    Pvalue_all.nIDP_category = Pvalue_all.nIDP_category.replace(item, labels[n])\n",
    "    n = n+1"
   ]
  },
  {
   "cell_type": "code",
   "execution_count": 25,
   "metadata": {
    "ExecuteTime": {
     "end_time": "2024-10-03T08:29:09.382217Z",
     "start_time": "2024-10-03T08:29:07.756845Z"
    },
    "scrolled": false
   },
   "outputs": [
    {
     "data": {
      "image/png": "[encoded data removed]",
      "text/plain": [
       "<Figure size 432x288 with 1 Axes>"
      ]
     },
     "metadata": {
      "needs_background": "light"
     },
     "output_type": "display_data"
    }
   ],
   "source": [
    "plt.figure()\n",
    "fig=sns.scatterplot(data=Pvalue_all, x='nIDPs',y='PC1', hue='nIDP_category', palette=colors[0:7])\n",
    "fig.axhline(-np.log10(.05/len(Pvalue_all)),color='k')\n",
    "plt.legend(bbox_to_anchor=(1.02,1.02))\n",
    "plt.title(f' p-value of correlation ({ending} PC1, nIDP)', fontweight=\"bold\")\n",
    "plt.ylim([-5,120])\n",
    "plt.ylabel('$-log_{10}(p)$')\n",
    "plt.savefig('/home/preclineu/chafra/Desktop/figures/'+'fig_14'+ending+'.png',dpi=300, bbox_inches='tight')\n",
    "plt.show()\n",
    "plt.close()"
   ]
  },
  {
   "cell_type": "code",
   "execution_count": 26,
   "metadata": {
    "ExecuteTime": {
     "end_time": "2024-10-03T08:29:10.966007Z",
     "start_time": "2024-10-03T08:29:09.417873Z"
    },
    "scrolled": true
   },
   "outputs": [
    {
     "data": {
      "image/png": "[encoded data removed]",
      "text/plain": [
       "<Figure size 432x288 with 1 Axes>"
      ]
     },
     "metadata": {
      "needs_background": "light"
     },
     "output_type": "display_data"
    }
   ],
   "source": [
    "plt.figure()\n",
    "fig=sns.scatterplot(data=Pvalue_all, x='nIDPs',y='PC2', hue='nIDP_category', palette=colors[0:7])\n",
    "fig.axhline(-np.log10(.05/len(Pvalue_all)),color='k')\n",
    "\n",
    "plt.legend(bbox_to_anchor=(1.02,1.02))\n",
    "plt.title(f' p-value of correlation ({ending} PC2, nIDP)', fontweight=\"bold\")\n",
    "#plt.savefig(nm_dir+idp+ending+'.png',dpi=300,bbox_inches='tight')\n",
    "plt.ylim([-5,120])\n",
    "plt.ylabel('$-log_{10}(p)$')\n",
    "plt.savefig('/home/preclineu/chafra/Desktop/figures/'+'fig_15'+ ending+ '.png',dpi=300, bbox_inches='tight')\n",
    "plt.show()\n",
    "plt.close()"
   ]
  },
  {
   "cell_type": "code",
   "execution_count": 27,
   "metadata": {
    "ExecuteTime": {
     "end_time": "2024-10-03T08:29:11.717491Z",
     "start_time": "2024-10-03T08:29:11.001557Z"
    }
   },
   "outputs": [
    {
     "data": {
      "image/png": "[encoded data removed]",
      "text/plain": [
       "<Figure size 432x288 with 1 Axes>"
      ]
     },
     "metadata": {
      "needs_background": "light"
     },
     "output_type": "display_data"
    }
   ],
   "source": [
    "plt.figure()\n",
    "fig=sns.scatterplot(data=Pvalue_all, x='nIDPs',y='PC3', hue='nIDP_category', palette=colors[0:7])\n",
    "fig.axhline(-np.log10(.05/len(Pvalue_all)),color='k')\n",
    "plt.legend(bbox_to_anchor=(1.02,1.02))\n",
    "plt.title(f' p-value of correlation ({ending} PC3, nIDP)', fontweight=\"bold\")\n",
    "#plt.savefig(nm_dir+idp+ending+'.png',dpi=300,bbox_inches='tight')\n",
    "plt.ylim([-5,120])\n",
    "plt.ylabel('$-log_{10}(p)$')\n",
    "plt.show()\n",
    "plt.close()"
   ]
  },
  {
   "cell_type": "code",
   "execution_count": 28,
   "metadata": {
    "ExecuteTime": {
     "end_time": "2024-10-03T08:29:11.735923Z",
     "start_time": "2024-10-03T08:29:11.726134Z"
    }
   },
   "outputs": [
    {
     "name": "stdout",
     "output_type": "stream",
     "text": [
      "PC1, Number of correlations passing p-value: 51\n",
      "PC2, Number of correlations passing p-value: 137\n",
      "PC3, Number of correlations passing p-value: 36\n"
     ]
    }
   ],
   "source": [
    "print(f'PC1, Number of correlations passing p-value: {np.sum(Pvalue_all.iloc[:,2]>-np.log10(.05/len(Pvalue_all)))}')\n",
    "print(f'PC2, Number of correlations passing p-value: {np.sum(Pvalue_all.iloc[:,3]>-np.log10(.05/len(Pvalue_all)))}')\n",
    "print(f'PC3, Number of correlations passing p-value: {np.sum(Pvalue_all.iloc[:,4]>-np.log10(.05/len(Pvalue_all)))}')"
   ]
  }
 ],
 "metadata": {
  "hide_input": false,
  "interpreter": {
   "hash": "f9d832664005fc0c9a2a1c625e82b4be453e9740da740d2c5abb3d2f872f116f"
  },
  "kernelspec": {
   "display_name": "Python 3",
   "language": "python",
   "name": "python3"
  },
  "language_info": {
   "codemirror_mode": {
    "name": "ipython",
    "version": 3
   },
   "file_extension": ".py",
   "mimetype": "text/x-python",
   "name": "python",
   "nbconvert_exporter": "python",
   "pygments_lexer": "ipython3",
   "version": "3.8.2"
  },
  "latex_envs": {
   "LaTeX_envs_menu_present": true,
   "autoclose": false,
   "autocomplete": true,
   "bibliofile": "biblio.bib",
   "cite_by": "apalike",
   "current_citInitial": 1,
   "eqLabelWithNumbers": true,
   "eqNumInitial": 1,
   "hotkeys": {
    "equation": "Ctrl-E",
    "itemize": "Ctrl-I"
   },
   "labels_anchors": false,
   "latex_user_defs": false,
   "report_style_numbering": false,
   "user_envs_cfg": false
  },
  "toc": {
   "base_numbering": 1,
   "nav_menu": {},
   "number_sections": true,
   "sideBar": true,
   "skip_h1_title": false,
   "title_cell": "Table of Contents",
   "title_sidebar": "Contents",
   "toc_cell": false,
   "toc_position": {
    "height": "calc(100% - 180px)",
    "left": "10px",
    "top": "150px",
    "width": "512px"
   },
   "toc_section_display": true,
   "toc_window_display": true
  },
  "varInspector": {
   "cols": {
    "lenName": 16,
    "lenType": 16,
    "lenVar": 40
   },
   "kernels_config": {
    "python": {
     "delete_cmd_postfix": "",
     "delete_cmd_prefix": "del ",
     "library": "var_list.py",
     "varRefreshCmd": "print(var_dic_list())"
    },
    "r": {
     "delete_cmd_postfix": ") ",
     "delete_cmd_prefix": "rm(",
     "library": "var_list.r",
     "varRefreshCmd": "cat(var_dic_list()) "
    }
   },
   "types_to_exclude": [
    "module",
    "function",
    "builtin_function_or_method",
    "instance",
    "_Feature"
   ],
   "window_display": false
  }
 },
 "nbformat": 4,
 "nbformat_minor": 4
}
