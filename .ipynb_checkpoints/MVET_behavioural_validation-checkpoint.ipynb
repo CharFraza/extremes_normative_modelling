{
 "cells": [
  {
   "cell_type": "markdown",
   "metadata": {},
   "source": [
    "# Behavioural validation of the extreme PCA"
   ]
  },
  {
   "cell_type": "markdown",
   "metadata": {
    "slideshow": {
     "slide_type": "slide"
    }
   },
   "source": [
    "Run the MVET_IDP_PCA.ipynb first to find the extreme principal components (PCs).\n",
    "In this script we are going to look at the correlation between the first two extreme PCs and several behavioural measures from the UKB."
   ]
  },
  {
   "cell_type": "code",
   "execution_count": 1,
   "metadata": {
    "ExecuteTime": {
     "end_time": "2022-08-22T07:50:35.492464Z",
     "start_time": "2022-08-22T07:50:34.030290Z"
    }
   },
   "outputs": [
    {
     "data": {
      "text/plain": [
       "<Figure size 432x288 with 0 Axes>"
      ]
     },
     "metadata": {},
     "output_type": "display_data"
    }
   ],
   "source": [
    "import numpy as np\n",
    "import pandas as pd\n",
    "import seaborn as sns\n",
    "from matplotlib import pyplot as plt\n",
    "from scipy import stats\n",
    "from sklearn.preprocessing import MinMaxScaler\n",
    "from scipy.stats import spearmanr\n",
    "from sklearn.model_selection import train_test_split\n",
    "from sklearn import linear_model, metrics\n",
    "\n",
    "sns.set(style='ticks', palette='Set2')\n",
    "sns.despine()"
   ]
  },
  {
   "cell_type": "code",
   "execution_count": 2,
   "metadata": {
    "ExecuteTime": {
     "end_time": "2022-08-22T07:50:37.780996Z",
     "start_time": "2022-08-22T07:50:35.497854Z"
    }
   },
   "outputs": [],
   "source": [
    "# For using R within python\n",
    "%load_ext rpy2.ipython"
   ]
  },
  {
   "cell_type": "code",
   "execution_count": 3,
   "metadata": {
    "ExecuteTime": {
     "end_time": "2022-08-22T07:50:37.869718Z",
     "start_time": "2022-08-22T07:50:37.786898Z"
    }
   },
   "outputs": [
    {
     "name": "stdout",
     "output_type": "stream",
     "text": [
      "               _                           \n",
      "platform       x86_64-pc-linux-gnu         \n",
      "arch           x86_64                      \n",
      "os             linux-gnu                   \n",
      "system         x86_64, linux-gnu           \n",
      "status                                     \n",
      "major          4                           \n",
      "minor          1.0                         \n",
      "year           2021                        \n",
      "month          05                          \n",
      "day            18                          \n",
      "svn rev        80317                       \n",
      "language       R                           \n",
      "version.string R version 4.1.0 (2021-05-18)\n",
      "nickname       Camp Pontanezen             \n"
     ]
    }
   ],
   "source": [
    "%%R\n",
    "R.version"
   ]
  },
  {
   "cell_type": "code",
   "execution_count": 4,
   "metadata": {
    "ExecuteTime": {
     "end_time": "2022-08-22T07:50:37.879599Z",
     "start_time": "2022-08-22T07:50:37.871738Z"
    },
    "code_folding": [
     0
    ]
   },
   "outputs": [],
   "source": [
    "def retrieve_UKBB_covariates(csv_file_path, fields_code_list, fileds_name_list, \n",
    "                             save_path = None, drop_nans = True):\n",
    "    '''\n",
    "    Example:\n",
    "        csv_file_path = '/project_freenas/3022017.02/UKB/phenotypes/ukb35187.csv'\n",
    "        save_path =  '/project_freenas/3022017.02/UKB/phenotypes/test.csv'\n",
    "        fields_code_list = ['21003-2.0', '31-0.0', '54-2.0']\n",
    "        fileds_name_list = ['age', 'gender', 'site_id']\n",
    "        \n",
    "        covariates, subs = retrieve_UKBB_covariates(csv_file_path, fields_code_list, \n",
    "                                          fileds_name_list, save_path)\n",
    "    '''\n",
    "    \n",
    "    ukbb_covariates = pd.read_csv(csv_file_path, encoding= 'unicode_escape', \n",
    "                                   usecols=['eid'] + fields_code_list)\n",
    "    if drop_nans:\n",
    "        ukbb_covariates = ukbb_covariates.dropna()\n",
    "    ukbb_subs = list(ukbb_covariates['eid'])\n",
    "    ukbb_subs = [str(u) for u in ukbb_subs]\n",
    "    ukbb_covariates['eid'] = ukbb_subs\n",
    "    ukbb_covariates = ukbb_covariates.set_index('eid')\n",
    "    c = dict()\n",
    "    for i, code in enumerate(fields_code_list):\n",
    "        c[code] = fileds_name_list[i]\n",
    "    ukbb_covariates = ukbb_covariates.rename(columns=c)\n",
    "    if save_path is not None:\n",
    "        ukbb_covariates.to_csv(save_path)\n",
    "    return ukbb_covariates, ukbb_subs"
   ]
  },
  {
   "cell_type": "markdown",
   "metadata": {},
   "source": [
    "# Fluid intelligence\n",
    "First we will look with a bit more detail at fluid intelligence, as this is usually used to validate a new method."
   ]
  },
  {
   "cell_type": "code",
   "execution_count": 5,
   "metadata": {
    "ExecuteTime": {
     "end_time": "2022-08-22T07:50:50.069694Z",
     "start_time": "2022-08-22T07:50:37.885003Z"
    }
   },
   "outputs": [],
   "source": [
    "# Remove num memory, for very few participants and pros mem, as categorical\n",
    "# https://biobank.ctsu.ox.ac.uk/crystal/label.cgi?id=100026\n",
    "cp_code_list = [#'4282-2.0', # Numeric memory\n",
    "                '20016-2.0', # Reasoning/fluid int\n",
    "                #'20023-2.0', # Reaction time\n",
    "                #'399-2.2', # Visual memory, pair matching\n",
    "                #'21004-2.0', # tower_rearranging, number puzzles correct\n",
    "                #'6348-2.0', # duration trail n\n",
    "                #'6350-2.0', # duration trail a\n",
    "                #'6373-2.0', # matrix pattern puzzles solved\n",
    "                #'23324-2.0' # digits matched correctly\n",
    "               ] #  399 had 3 pair and 6 pair\n",
    "cp_name_list = [#'Numeric_memory',\n",
    "                'Fluid_intelligence', \n",
    "                #'Reaction_time', \n",
    "                #'Visual_memory', \n",
    "                #'tower_rearranging', \n",
    "                #'trail_making_n', \n",
    "                #'trail_making_a',\n",
    "                #'matrix_pattern_completion', \n",
    "                #'symbol_digit_substitution'\n",
    "               ] #'numeric_memory'\n",
    "CPs, subs = retrieve_UKBB_covariates('/project_freenas/3022017.02/UKB/phenotypes/current/32_cognitive_phenotypes.csv', cp_code_list, cp_name_list)"
   ]
  },
  {
   "cell_type": "code",
   "execution_count": 6,
   "metadata": {
    "ExecuteTime": {
     "end_time": "2022-08-22T07:50:50.080233Z",
     "start_time": "2022-08-22T07:50:50.076583Z"
    },
    "run_control": {
     "marked": false
    }
   },
   "outputs": [],
   "source": [
    "# mental health problems: https://biobank.ndph.ox.ac.uk/showcase/coding.cgi?id=1401\n",
    "#code_list = ['20544-0.1', '20544-0.2', '20544-0.3', '20544-0.4', '20544-0.5', '20544-0.6', '20544-0.7', '20544-0.8']\n",
    "#name_list = cp_code_list\n",
    "#HHs, subs = retrieve_UKBB_covariates('/project_freenas/3022017.02/UKB/phenotypes/current#/51_mental_health_self_report.csv', code_list, name_list)\n",
    "#CPs"
   ]
  },
  {
   "cell_type": "markdown",
   "metadata": {},
   "source": [
    "## Preprocess the behavioural data\n",
    "1. To make the data more Gaussian transfer some to log space\n",
    "2. Normalize before PCA, as PCA tries to maximize the variance, and otherwise the largest component will explain the most variance. "
   ]
  },
  {
   "cell_type": "code",
   "execution_count": 7,
   "metadata": {
    "ExecuteTime": {
     "end_time": "2022-08-22T07:50:50.121147Z",
     "start_time": "2022-08-22T07:50:50.086117Z"
    }
   },
   "outputs": [],
   "source": [
    "#CPs['Reaction_time'] = np.log(CPs['Reaction_time'])\n",
    "#CPs['Visual_memory'] = np.log(CPs['Visual_memory']+1)\n",
    "scaler = MinMaxScaler()\n",
    "CPs_scaled = scaler.fit_transform(CPs)\n",
    "CPs_scaled_df = pd.DataFrame(data = CPs_scaled, columns = CPs.columns)\n",
    "CPs_scaled_df.describe()\n",
    "CPs_scaled_df.index = list(map(int,subs))"
   ]
  },
  {
   "cell_type": "code",
   "execution_count": 8,
   "metadata": {
    "ExecuteTime": {
     "end_time": "2022-08-22T07:50:50.415089Z",
     "start_time": "2022-08-22T07:50:50.126285Z"
    },
    "scrolled": false
   },
   "outputs": [
    {
     "data": {
      "image/png": "[encoded data removed]",
      "text/plain": [
       "<Figure size 432x288 with 1 Axes>"
      ]
     },
     "metadata": {},
     "output_type": "display_data"
    }
   ],
   "source": [
    "for cp in cp_name_list:\n",
    "    plt.figure()\n",
    "    sns.histplot(data=CPs_scaled_df[cp], bins = 20)"
   ]
  },
  {
   "cell_type": "markdown",
   "metadata": {
    "ExecuteTime": {
     "end_time": "2022-03-22T09:18:15.776943Z",
     "start_time": "2022-03-22T09:18:15.764359Z"
    },
    "scrolled": true
   },
   "source": [
    "## Select standard PC or extreme PC\n",
    "Select the participants that have both the PCs (brain date) and the CPs data available. \n",
    "Select if you want the standard space PCs (PCs_ss.csv) or the extreme PCs (PCs.csv)"
   ]
  },
  {
   "cell_type": "code",
   "execution_count": 9,
   "metadata": {
    "ExecuteTime": {
     "end_time": "2022-08-22T07:51:25.045975Z",
     "start_time": "2022-08-22T07:50:50.420119Z"
    }
   },
   "outputs": [
    {
     "data": {
      "text/html": [
       "<div>\n",
       "<style scoped>\n",
       "    .dataframe tbody tr th:only-of-type {\n",
       "        vertical-align: middle;\n",
       "    }\n",
       "\n",
       "    .dataframe tbody tr th {\n",
       "        vertical-align: top;\n",
       "    }\n",
       "\n",
       "    .dataframe thead th {\n",
       "        text-align: right;\n",
       "    }\n",
       "</style>\n",
       "<table border=\"1\" class=\"dataframe\">\n",
       "  <thead>\n",
       "    <tr style=\"text-align: right;\">\n",
       "      <th></th>\n",
       "      <th>V1</th>\n",
       "      <th>V2</th>\n",
       "      <th>V3</th>\n",
       "      <th>V4</th>\n",
       "      <th>V5</th>\n",
       "      <th>V6</th>\n",
       "      <th>V7</th>\n",
       "      <th>V8</th>\n",
       "      <th>V9</th>\n",
       "      <th>V10</th>\n",
       "      <th>...</th>\n",
       "      <th>V385</th>\n",
       "      <th>V386</th>\n",
       "      <th>V387</th>\n",
       "      <th>V388</th>\n",
       "      <th>V389</th>\n",
       "      <th>V390</th>\n",
       "      <th>V391</th>\n",
       "      <th>V392</th>\n",
       "      <th>V393</th>\n",
       "      <th>V394</th>\n",
       "    </tr>\n",
       "  </thead>\n",
       "  <tbody>\n",
       "    <tr>\n",
       "      <th>1000050</th>\n",
       "      <td>86.936095</td>\n",
       "      <td>38.567922</td>\n",
       "      <td>73.477932</td>\n",
       "      <td>-11.571167</td>\n",
       "      <td>-31.880542</td>\n",
       "      <td>4.127841</td>\n",
       "      <td>1.894238</td>\n",
       "      <td>-5.017314</td>\n",
       "      <td>-19.587740</td>\n",
       "      <td>21.407747</td>\n",
       "      <td>...</td>\n",
       "      <td>10.659113</td>\n",
       "      <td>8.746197</td>\n",
       "      <td>20.513950</td>\n",
       "      <td>1.100517</td>\n",
       "      <td>0.078258</td>\n",
       "      <td>8.957418</td>\n",
       "      <td>5.931065</td>\n",
       "      <td>-7.955656</td>\n",
       "      <td>-12.953428</td>\n",
       "      <td>-17.197706</td>\n",
       "    </tr>\n",
       "    <tr>\n",
       "      <th>1000853</th>\n",
       "      <td>106.209221</td>\n",
       "      <td>-1.263881</td>\n",
       "      <td>-26.921476</td>\n",
       "      <td>24.042827</td>\n",
       "      <td>4.524873</td>\n",
       "      <td>2.884952</td>\n",
       "      <td>-35.145050</td>\n",
       "      <td>7.100404</td>\n",
       "      <td>-29.619982</td>\n",
       "      <td>-7.868569</td>\n",
       "      <td>...</td>\n",
       "      <td>2.800420</td>\n",
       "      <td>1.554645</td>\n",
       "      <td>6.043969</td>\n",
       "      <td>1.195651</td>\n",
       "      <td>2.038939</td>\n",
       "      <td>-1.235958</td>\n",
       "      <td>-6.841360</td>\n",
       "      <td>-4.308471</td>\n",
       "      <td>-0.760121</td>\n",
       "      <td>-4.716729</td>\n",
       "    </tr>\n",
       "    <tr>\n",
       "      <th>1000871</th>\n",
       "      <td>81.831362</td>\n",
       "      <td>-10.044895</td>\n",
       "      <td>17.354035</td>\n",
       "      <td>10.263175</td>\n",
       "      <td>22.717061</td>\n",
       "      <td>12.848750</td>\n",
       "      <td>5.785556</td>\n",
       "      <td>-10.243469</td>\n",
       "      <td>3.175606</td>\n",
       "      <td>0.905899</td>\n",
       "      <td>...</td>\n",
       "      <td>-0.470076</td>\n",
       "      <td>-1.901821</td>\n",
       "      <td>0.660914</td>\n",
       "      <td>-0.667041</td>\n",
       "      <td>0.638762</td>\n",
       "      <td>-1.677394</td>\n",
       "      <td>-0.268058</td>\n",
       "      <td>2.172508</td>\n",
       "      <td>1.555563</td>\n",
       "      <td>-0.130200</td>\n",
       "    </tr>\n",
       "    <tr>\n",
       "      <th>1000910</th>\n",
       "      <td>61.892211</td>\n",
       "      <td>22.392355</td>\n",
       "      <td>8.957376</td>\n",
       "      <td>11.887004</td>\n",
       "      <td>18.109057</td>\n",
       "      <td>8.593101</td>\n",
       "      <td>-4.821732</td>\n",
       "      <td>-7.982525</td>\n",
       "      <td>0.408153</td>\n",
       "      <td>9.457089</td>\n",
       "      <td>...</td>\n",
       "      <td>-1.500316</td>\n",
       "      <td>-0.765088</td>\n",
       "      <td>1.242212</td>\n",
       "      <td>-1.817681</td>\n",
       "      <td>1.041462</td>\n",
       "      <td>1.820262</td>\n",
       "      <td>0.717599</td>\n",
       "      <td>-0.845861</td>\n",
       "      <td>1.507726</td>\n",
       "      <td>0.671432</td>\n",
       "    </tr>\n",
       "    <tr>\n",
       "      <th>1001018</th>\n",
       "      <td>80.874316</td>\n",
       "      <td>21.705076</td>\n",
       "      <td>-3.112837</td>\n",
       "      <td>-11.188150</td>\n",
       "      <td>6.198052</td>\n",
       "      <td>2.383058</td>\n",
       "      <td>3.513303</td>\n",
       "      <td>15.881936</td>\n",
       "      <td>-1.971649</td>\n",
       "      <td>-0.761278</td>\n",
       "      <td>...</td>\n",
       "      <td>-6.033837</td>\n",
       "      <td>0.787522</td>\n",
       "      <td>3.211678</td>\n",
       "      <td>1.523732</td>\n",
       "      <td>1.555672</td>\n",
       "      <td>0.296585</td>\n",
       "      <td>0.872588</td>\n",
       "      <td>0.738224</td>\n",
       "      <td>1.809111</td>\n",
       "      <td>1.252140</td>\n",
       "    </tr>\n",
       "  </tbody>\n",
       "</table>\n",
       "<p>5 rows × 394 columns</p>\n",
       "</div>"
      ],
      "text/plain": [
       "                 V1         V2         V3         V4         V5         V6  \\\n",
       "1000050   86.936095  38.567922  73.477932 -11.571167 -31.880542   4.127841   \n",
       "1000853  106.209221  -1.263881 -26.921476  24.042827   4.524873   2.884952   \n",
       "1000871   81.831362 -10.044895  17.354035  10.263175  22.717061  12.848750   \n",
       "1000910   61.892211  22.392355   8.957376  11.887004  18.109057   8.593101   \n",
       "1001018   80.874316  21.705076  -3.112837 -11.188150   6.198052   2.383058   \n",
       "\n",
       "                V7         V8         V9        V10  ...       V385      V386  \\\n",
       "1000050   1.894238  -5.017314 -19.587740  21.407747  ...  10.659113  8.746197   \n",
       "1000853 -35.145050   7.100404 -29.619982  -7.868569  ...   2.800420  1.554645   \n",
       "1000871   5.785556 -10.243469   3.175606   0.905899  ...  -0.470076 -1.901821   \n",
       "1000910  -4.821732  -7.982525   0.408153   9.457089  ...  -1.500316 -0.765088   \n",
       "1001018   3.513303  15.881936  -1.971649  -0.761278  ...  -6.033837  0.787522   \n",
       "\n",
       "              V387      V388      V389      V390      V391      V392  \\\n",
       "1000050  20.513950  1.100517  0.078258  8.957418  5.931065 -7.955656   \n",
       "1000853   6.043969  1.195651  2.038939 -1.235958 -6.841360 -4.308471   \n",
       "1000871   0.660914 -0.667041  0.638762 -1.677394 -0.268058  2.172508   \n",
       "1000910   1.242212 -1.817681  1.041462  1.820262  0.717599 -0.845861   \n",
       "1001018   3.211678  1.523732  1.555672  0.296585  0.872588  0.738224   \n",
       "\n",
       "              V393       V394  \n",
       "1000050 -12.953428 -17.197706  \n",
       "1000853  -0.760121  -4.716729  \n",
       "1000871   1.555563  -0.130200  \n",
       "1000910   1.507726   0.671432  \n",
       "1001018   1.809111   1.252140  \n",
       "\n",
       "[5 rows x 394 columns]"
      ]
     },
     "execution_count": 9,
     "metadata": {},
     "output_type": "execute_result"
    }
   ],
   "source": [
    "Z_df = pd.read_csv('/project_cephfs/3022017.02/projects/big_data/data/ukb_processed_4/deviation_scores.csv', index_col=0)\n",
    "standard = False #else extreme\n",
    "if standard:\n",
    "    PCs_df = pd.read_csv('/home/preclineu/chafra/Desktop/code_phd/data/data/PCs_ss.csv')\n",
    "    ending = 'standard'\n",
    "else:\n",
    "    PCs_df = pd.read_csv('/home/preclineu/chafra/Desktop/code_phd/data/data/PCs.csv')\n",
    "    ending = 'extreme'\n",
    "\n",
    "PCs_df.index = Z_df.index\n",
    "PCs_df.head()"
   ]
  },
  {
   "cell_type": "code",
   "execution_count": null,
   "metadata": {
    "ExecuteTime": {
     "start_time": "2022-08-22T07:50:34.150Z"
    }
   },
   "outputs": [
    {
     "data": {
      "text/plain": [
       "<seaborn.axisgrid.PairGrid at 0x7fd01fdb0a30>"
      ]
     },
     "execution_count": 10,
     "metadata": {},
     "output_type": "execute_result"
    }
   ],
   "source": [
    "CPs_scaled_df_dep = CPs_scaled_df.loc[CPs_scaled_df.index.intersection(PCs_df.index)]\n",
    "PCs_df_dep = pd.DataFrame(PCs_df.loc[CPs_scaled_df.index.intersection(PCs_df.index)])\n",
    "CPs_PCs_df = pd.concat([CPs_scaled_df_dep, PCs_df_dep], axis=1)\n",
    "\n",
    "sns.pairplot(data = CPs_PCs_df.iloc[:,0:10], corner=True)"
   ]
  },
  {
   "cell_type": "markdown",
   "metadata": {},
   "source": [
    "## Correlation PC and fluid intelligence "
   ]
  },
  {
   "cell_type": "code",
   "execution_count": null,
   "metadata": {
    "ExecuteTime": {
     "start_time": "2022-08-22T07:50:34.217Z"
    },
    "scrolled": true
   },
   "outputs": [],
   "source": [
    "rho = np.zeros(np.shape(PCs_df_dep)[1])\n",
    "p = np.zeros(np.shape(PCs_df_dep)[1])\n",
    "for i in range(np.shape(PCs_df_dep)[1]):\n",
    "    print(i)\n",
    "    rho[i], p[i] = stats.spearmanr(CPs_scaled_df_dep, PCs_df_dep.iloc[:,i])\n",
    "    print('stat:', rho[i], 'pval:', p[i])"
   ]
  },
  {
   "cell_type": "code",
   "execution_count": null,
   "metadata": {
    "ExecuteTime": {
     "start_time": "2022-08-22T07:50:34.221Z"
    }
   },
   "outputs": [],
   "source": [
    "p_df = pd.DataFrame(p, columns=['pvalue'])\n",
    "p_df = p_df.reset_index()"
   ]
  },
  {
   "cell_type": "code",
   "execution_count": null,
   "metadata": {
    "ExecuteTime": {
     "start_time": "2022-08-22T07:50:34.225Z"
    },
    "run_control": {
     "marked": true
    },
    "scrolled": true
   },
   "outputs": [],
   "source": [
    "fig=sns.scatterplot(data=p_df, x='index',y='pvalue')\n",
    "fig.axhline(.05/len(p_df),color='k')\n",
    "plt.legend(bbox_to_anchor=(1.1,1.05))\n",
    "plt.title(' p-value of corrlation (PCs,FI)')\n",
    "plt.show()\n",
    "plt.close()"
   ]
  },
  {
   "cell_type": "code",
   "execution_count": null,
   "metadata": {
    "ExecuteTime": {
     "start_time": "2022-08-22T07:50:34.229Z"
    }
   },
   "outputs": [],
   "source": [
    "print(f'PCs, Number of correlations passing p-value: {sum(p_df.iloc[:,1]<.05/len(p_df))}')"
   ]
  },
  {
   "cell_type": "markdown",
   "metadata": {},
   "source": [
    "# Correlation non-IDPs\n",
    "\n",
    "Correlate the first two extreme PCs to different non IDP values, using a standard spearmanr correlation. The spearmanr correlation does not assume that both distributions are normally distributed. \n",
    "\n",
    "Code based on this amazing paper: \n",
    "- Non-linearity matters: a deep learning solution to generalization of hidden brain patterns across population cohorts Mariam Zabihi."
   ]
  },
  {
   "cell_type": "code",
   "execution_count": null,
   "metadata": {
    "ExecuteTime": {
     "start_time": "2022-08-22T07:50:34.287Z"
    }
   },
   "outputs": [],
   "source": [
    "PCs=PCs_df.iloc[:,0:3]\n",
    "nIDP_df=pd.read_csv('/project_cephfs/3022017.02/projects/big_data/data/nIDPs.csv',index_col=0)\n",
    "data_dictionary=pd.read_csv('/home/preclineu/chafra/Desktop/code_phd/EVT/data_dictionary.csv',index_col=0)"
   ]
  },
  {
   "cell_type": "code",
   "execution_count": null,
   "metadata": {
    "ExecuteTime": {
     "start_time": "2022-08-22T07:50:34.292Z"
    }
   },
   "outputs": [],
   "source": [
    "nIDP_df\n",
    "sns.pairplot(nIDP_df.iloc[:,0:5])"
   ]
  },
  {
   "cell_type": "code",
   "execution_count": null,
   "metadata": {
    "ExecuteTime": {
     "start_time": "2022-08-22T07:50:34.298Z"
    },
    "scrolled": false
   },
   "outputs": [],
   "source": [
    "nIDP_df = nIDP_df.set_index('Subject')\n",
    "nIDP_df.head()"
   ]
  },
  {
   "cell_type": "code",
   "execution_count": null,
   "metadata": {
    "ExecuteTime": {
     "start_time": "2022-08-22T07:50:34.304Z"
    },
    "scrolled": true
   },
   "outputs": [],
   "source": [
    "X = PCs.join(nIDP_df)\n",
    "P = pd.DataFrame()\n",
    "for nIDP in nIDP_df: \n",
    "    df=X[['V1','V2', 'V3' ,nIDP]]\n",
    "    df = df.dropna()\n",
    "    r,p=spearmanr(df[['V1','V2', 'V3']],df[nIDP])\n",
    "    pvalue=pd.DataFrame(columns=['FieldID-instance'],data=[nIDP])\n",
    "    pvalue[['PC1','PC2', 'PC3']]=[-np.log10(p[3,:3])]\n",
    "    P=pd.concat([P,pvalue])\n",
    "    \n",
    "Pvalue=pd.merge(data_dictionary[['FieldID-instance','nIDP_category','Field']],P,how='inner',on='FieldID-instance')\n",
    "Pvalue=Pvalue.reset_index()\n",
    "Pvalue=Pvalue.rename(columns={'index':'nIDPs'})\n",
    "Pvalue=Pvalue.drop(Pvalue[Pvalue['nIDP_category']=='age_sex_site'].index)\n",
    "Pvalue.head()"
   ]
  },
  {
   "cell_type": "markdown",
   "metadata": {},
   "source": [
    "Manhattan plot of the p-values for the univariate correlation of non-imaging measures with the first two extreme PCAs and the standard PCAs. The black line shows the Bonferonni-corrected p-value threshold.\n",
    "We use the log10 scale, so we have to look at values that pass the black line."
   ]
  },
  {
   "cell_type": "code",
   "execution_count": null,
   "metadata": {
    "ExecuteTime": {
     "start_time": "2022-08-22T07:50:34.362Z"
    },
    "scrolled": false
   },
   "outputs": [],
   "source": [
    "for idp in ['PC1','PC2', 'PC3']:\n",
    "    fig=sns.scatterplot(data=Pvalue, x='nIDPs',y=idp, hue='nIDP_category')\n",
    "    fig.axhline(-np.log10(.05/len(P)),color='k')\n",
    "\n",
    "    plt.legend(bbox_to_anchor=(1.1,1.05))\n",
    "    plt.title(' p-value of corrlation (Z,nIDP)')\n",
    "    #plt.savefig(nm_dir+idp+'.png',dpi=300,bbox_inches='tight')\n",
    "    plt.show()\n",
    "    plt.close()"
   ]
  },
  {
   "cell_type": "code",
   "execution_count": null,
   "metadata": {
    "ExecuteTime": {
     "start_time": "2022-08-22T07:50:34.366Z"
    }
   },
   "outputs": [],
   "source": [
    "print(f'PCA1, Number of correlations passing p-value: {np.sum(P.iloc[:,1]>-np.log10(.05/len(P)))}')\n",
    "print(f'PCA2, Number of correlations passing p-value: {np.sum(P.iloc[:,2]>-np.log10(.05/len(P)))}')\n",
    "print(f'PCA3, Number of correlations passing p-value: {np.sum(P.iloc[:,3]>-np.log10(.05/len(P)))}')"
   ]
  },
  {
   "cell_type": "markdown",
   "metadata": {},
   "source": [
    "## Correlation diagnosis and extreme PCAs\n",
    "The IDP codes can be found here:\n",
    "https://biobank.ndph.ox.ac.uk/showcase/coding.cgi?id=6\n",
    "We will look at two diagnosis that we expect to have extreme values:\n",
    "chronic/degenerative neurological problem:\n",
    "- motor neurone disease (69) - 1259\n",
    "- myasthenia gravis (59) - 1260\n",
    "- multiple sclerosis (1995) - 1261\n",
    "- parkinsons disease (1011) - 1262\n",
    "- dementia/alzheimers/cognitive impairment (154) - 1263\n",
    "- other demyelinating disease (not multiple sclerosis) (81) - 1397"
   ]
  },
  {
   "cell_type": "code",
   "execution_count": null,
   "metadata": {
    "ExecuteTime": {
     "start_time": "2022-08-22T07:50:34.438Z"
    },
    "scrolled": true
   },
   "outputs": [],
   "source": [
    "df = pd.read_csv(\"/project_freenas/3022017.02/UKB/phenotypes/current/50_health_outcomes_headers.csv\")\n",
    "diagnosis_ids = [col for col in df if col.startswith('20002')]\n",
    "diagnosis_ids.append('eid')\n",
    "diagnosis_df = pd.read_csv(\"/project_freenas/3022017.02/UKB/phenotypes/current/50_health_outcomes.csv\", usecols = diagnosis_ids)\n",
    "diagnosis_df = diagnosis_df.set_index('eid')"
   ]
  },
  {
   "cell_type": "code",
   "execution_count": null,
   "metadata": {
    "ExecuteTime": {
     "start_time": "2022-08-22T07:50:34.443Z"
    },
    "scrolled": true
   },
   "outputs": [],
   "source": [
    "degenerative_df = diagnosis_df[['20002-0.1259', '20002-0.1260', '20002-0.1261', '20002-0.1262', '20002-0.1263', '20002-0.1397']]\n",
    "print(f'Number of subject with a neurological problem: \\n{degenerative_df.sum()}')"
   ]
  },
  {
   "cell_type": "markdown",
   "metadata": {},
   "source": [
    "We want to correlate a continious variable with a binary variable, so we have to use the Point-Biserial Correlation"
   ]
  },
  {
   "cell_type": "code",
   "execution_count": null,
   "metadata": {
    "ExecuteTime": {
     "start_time": "2022-08-22T07:50:34.500Z"
    }
   },
   "outputs": [],
   "source": [
    "# Diabetes \n",
    "#degenerative_df = diagnosis_df[['20002-0.1222', '20002-0.1223']]\n",
    "#print(f'Number of subject with a diabetes: \\n{degenerative_df.sum()}')"
   ]
  },
  {
   "cell_type": "code",
   "execution_count": null,
   "metadata": {
    "ExecuteTime": {
     "start_time": "2022-08-22T07:50:34.504Z"
    }
   },
   "outputs": [],
   "source": [
    "# Insomnia \n",
    "#degenerative_df = diagnosis_df[['20002-0.1616']]\n",
    "#print(f'Number of subject with a insomnia: \\n{degenerative_df.sum()}')"
   ]
  },
  {
   "cell_type": "code",
   "execution_count": null,
   "metadata": {
    "ExecuteTime": {
     "start_time": "2022-08-22T07:50:34.507Z"
    }
   },
   "outputs": [],
   "source": [
    "# Stress disorders\n",
    "#degenerative_df = diagnosis_df[['20002-0.1286', '20002-0.1287', '20002-0.1288', '20002-0.1289', '20002-0.1290', '20002-0.1291']]\n",
    "#print(f'Number of subject with a stress disorder: \\n{degenerative_df.sum()}')"
   ]
  },
  {
   "cell_type": "code",
   "execution_count": null,
   "metadata": {
    "ExecuteTime": {
     "start_time": "2022-08-22T07:50:34.511Z"
    }
   },
   "outputs": [],
   "source": [
    "# Select only participants that also have brain data\n",
    "degenerative_df = degenerative_df.loc[degenerative_df.index.intersection(PCs_df.index)]\n",
    "PCs_df_dep = PCs_df.loc[degenerative_df.index]\n",
    "print(f'Number of subject with a neurological problems and brain data: {degenerative_df.sum().sum()}')"
   ]
  },
  {
   "cell_type": "code",
   "execution_count": null,
   "metadata": {
    "ExecuteTime": {
     "start_time": "2022-08-22T07:50:34.513Z"
    },
    "run_control": {
     "marked": true
    },
    "scrolled": true
   },
   "outputs": [],
   "source": [
    "PCs=PCs_df.iloc[:,0:3]\n",
    "X = PCs.join(degenerative_df)\n",
    "P = pd.DataFrame()\n",
    "for nIDP in degenerative_df: \n",
    "    df=X[['V1','V2', 'V3',nIDP]]\n",
    "    df = df.dropna()\n",
    "    r1, p1 = stats.pointbiserialr(df['V1'],df[nIDP])\n",
    "    r2, p2 = stats.pointbiserialr(df['V2'],df[nIDP])\n",
    "    r3, p3 = stats.pointbiserialr(df['V3'],df[nIDP])\n",
    "    pvalue=pd.DataFrame(columns=['FieldID-instance'],data=[nIDP])\n",
    "    pvalue['PC1'] = -np.log10(p1)\n",
    "    pvalue['PC2'] = -np.log10(p2)\n",
    "    pvalue['PC3'] = -np.log10(p3)\n",
    "    P=pd.concat([P,pvalue])    "
   ]
  },
  {
   "cell_type": "code",
   "execution_count": null,
   "metadata": {
    "ExecuteTime": {
     "start_time": "2022-08-22T07:50:34.517Z"
    }
   },
   "outputs": [],
   "source": [
    "P['nIDP_category'] = 'neurodegenerative_disorders'\n",
    "P['Field'] = ['motor neurone disease', 'myasthenia gravis', 'multiple sclerosis', 'parkinsons disease', 'dementia/alzheimers/cognitive-impairment', 'other demyelinating disease']\n"
   ]
  },
  {
   "cell_type": "code",
   "execution_count": null,
   "metadata": {
    "ExecuteTime": {
     "start_time": "2022-08-22T07:50:34.520Z"
    }
   },
   "outputs": [],
   "source": [
    "Pvalue_all = pd.concat([P, Pvalue.drop('nIDPs', axis=1)])\n",
    "Pvalue_all = Pvalue_all.reset_index(drop=True).reset_index()\n",
    "Pvalue_all=Pvalue_all.rename(columns={'index':'nIDPs'})\n"
   ]
  },
  {
   "cell_type": "code",
   "execution_count": null,
   "metadata": {
    "ExecuteTime": {
     "start_time": "2022-08-22T07:50:34.523Z"
    },
    "scrolled": false
   },
   "outputs": [],
   "source": [
    "plt.figure()\n",
    "fig=sns.scatterplot(data=Pvalue_all, x='nIDPs',y='PC1', hue='nIDP_category')\n",
    "fig.axhline(-np.log10(.05/len(Pvalue_all)),color='k')\n",
    "\n",
    "plt.legend(bbox_to_anchor=(1.02,1.02))\n",
    "plt.title(f' p-value of correlation ({ending} PC1, nIDP)')\n",
    "plt.ylim([-5,100])\n",
    "plt.show()\n",
    "plt.close()"
   ]
  },
  {
   "cell_type": "code",
   "execution_count": null,
   "metadata": {
    "ExecuteTime": {
     "start_time": "2022-08-22T07:50:34.527Z"
    },
    "scrolled": true
   },
   "outputs": [],
   "source": [
    "plt.figure()\n",
    "fig=sns.scatterplot(data=Pvalue_all, x='nIDPs',y='PC2', hue='nIDP_category')\n",
    "fig.axhline(-np.log10(.05/len(Pvalue_all)),color='k')\n",
    "\n",
    "plt.legend(bbox_to_anchor=(1.02,1.02))\n",
    "plt.title(f' p-value of correlation ({ending} PC2, nIDP)')\n",
    "#plt.savefig(nm_dir+idp+'.png',dpi=300,bbox_inches='tight')\n",
    "plt.ylim([-5,100])\n",
    "plt.show()\n",
    "plt.close()"
   ]
  },
  {
   "cell_type": "code",
   "execution_count": null,
   "metadata": {
    "ExecuteTime": {
     "start_time": "2022-08-22T07:50:34.530Z"
    }
   },
   "outputs": [],
   "source": [
    "plt.figure()\n",
    "fig=sns.scatterplot(data=Pvalue_all, x='nIDPs',y='PC3', hue='nIDP_category')\n",
    "fig.axhline(-np.log10(.05/len(Pvalue_all)),color='k')\n",
    "\n",
    "plt.legend(bbox_to_anchor=(1.02,1.02))\n",
    "plt.title(f' p-value of correlation ({ending} PC3, nIDP)')\n",
    "#plt.savefig(nm_dir+idp+'.png',dpi=300,bbox_inches='tight')\n",
    "plt.ylim([-5,100])\n",
    "plt.show()\n",
    "plt.close()"
   ]
  },
  {
   "cell_type": "code",
   "execution_count": null,
   "metadata": {
    "ExecuteTime": {
     "start_time": "2022-08-22T07:50:34.535Z"
    }
   },
   "outputs": [],
   "source": [
    "print(f'PC1, Number of correlations passing p-value: {np.sum(Pvalue_all.iloc[:,2]>-np.log10(.05/len(Pvalue_all)))}')\n",
    "print(f'PC2, Number of correlations passing p-value: {np.sum(Pvalue_all.iloc[:,3]>-np.log10(.05/len(Pvalue_all)))}')\n",
    "print(f'PC3, Number of correlations passing p-value: {np.sum(Pvalue_all.iloc[:,4]>-np.log10(.05/len(Pvalue_all)))}')"
   ]
  },
  {
   "cell_type": "markdown",
   "metadata": {},
   "source": [
    "# Weighted logistic regression with imbalanced classes "
   ]
  },
  {
   "cell_type": "markdown",
   "metadata": {},
   "source": [
    "We would like to see if we can take the correlations one step further and make a basic regression model. Using the PCs as our independent variables and the neurological data as our dependent variable."
   ]
  },
  {
   "cell_type": "code",
   "execution_count": null,
   "metadata": {
    "ExecuteTime": {
     "start_time": "2022-08-22T07:50:34.681Z"
    }
   },
   "outputs": [],
   "source": [
    "degenerative_df = degenerative_df.sum(axis=1)\n",
    "degenerative_df[degenerative_df>0] = 1\n",
    "print(f'Number of subjects with a neurological problem: {degenerative_df.sum()}')"
   ]
  },
  {
   "cell_type": "code",
   "execution_count": null,
   "metadata": {
    "ExecuteTime": {
     "start_time": "2022-08-22T07:50:34.684Z"
    }
   },
   "outputs": [],
   "source": [
    "degenerative_df"
   ]
  },
  {
   "cell_type": "markdown",
   "metadata": {},
   "source": [
    "For now we will only check if one of the chronic/degenerative neurological problems can be identified using the extreme PCAs. Thus, if a subject has one of the problems they will be marked 1. "
   ]
  },
  {
   "cell_type": "markdown",
   "metadata": {},
   "source": [
    "## Scatter plot different classes\n",
    "We can imagine that participants with neurological problems would be distinct from regular participant in the extreme PCs space. However, looking at the scatterplots down below, it is clear that there is not enough data or that the classes do not separate well in one of the first extreme PCs spaces. "
   ]
  },
  {
   "cell_type": "code",
   "execution_count": null,
   "metadata": {
    "ExecuteTime": {
     "start_time": "2022-08-22T07:50:34.820Z"
    },
    "run_control": {
     "marked": true
    },
    "scrolled": true
   },
   "outputs": [],
   "source": [
    "df = pd.concat([PCs_df_dep, degenerative_df], axis = 1)\n",
    "df.columns=['X1', 'X2', 'X3', 'X4',*df.columns[4:-1], 'y']\n",
    "plt.figure(figsize=(10,5))\n",
    "sns.scatterplot(data=df, x='X1', y='X2', hue ='y', alpha=0.5)\n",
    "plt.xlabel('PC1')\n",
    "plt.ylabel('PC2')\n",
    "plt.title('Bivariate scatterplot of PC1 and PC2')\n",
    "plt.figure(figsize=(10,5))\n",
    "sns.scatterplot(data=df, x='X1', y='X3', hue ='y', alpha=0.5)\n",
    "plt.xlabel('PC1')\n",
    "plt.ylabel('PC3')\n",
    "plt.title('Bivariate scatterplot of PC1 and PC3')\n",
    "plt.figure(figsize=(10,5))\n",
    "sns.scatterplot(data=df, x='X2', y='X3', hue ='y', alpha=0.5)\n",
    "plt.xlabel('PC2')\n",
    "plt.ylabel('PC3')\n",
    "plt.title('Bivariate scatterplot of PC2 and PC3')\n",
    "plt.figure(figsize=(10,5))\n",
    "sns.scatterplot(data=df, x='X3', y='X4', hue ='y', alpha=0.5)\n",
    "plt.xlabel('PC3')\n",
    "plt.ylabel('PC4')\n",
    "plt.title('Bivariate scatterplot of PC3 and PC4')\n"
   ]
  },
  {
   "cell_type": "markdown",
   "metadata": {},
   "source": [
    "Our positive and negative dataset is quite imbalanced; there are two solutions to this. First, we could use subsamples to make both sets equal in size. Or we can use weighted logistic regression. For a data set containing 5% positives and 95% negatives, we can assign each positive observation a weight of 0.95, and each negative observation a weight of 0.05. For sklearn the balanced mode automatically adjust weights inversely proportional to class frequencies in the input data "
   ]
  },
  {
   "cell_type": "markdown",
   "metadata": {},
   "source": [
    "### Measure model performance\n",
    "There are different ways to measure model performance (precision, ROC etc.), but for now we will use accuracy. \n",
    "For more information on the pseude r-squared: https://datascience.oneoffcoder.com/psuedo-r-squared-logistic-regression.html"
   ]
  },
  {
   "cell_type": "markdown",
   "metadata": {},
   "source": [
    "# Regression in R"
   ]
  },
  {
   "cell_type": "code",
   "execution_count": null,
   "metadata": {
    "ExecuteTime": {
     "start_time": "2022-08-22T07:50:35.039Z"
    }
   },
   "outputs": [],
   "source": [
    "X = PCs_df.iloc[:,1:11].values # Our extreme principal components\n",
    "y = degenerative_df.values # Degenerative problems \n"
   ]
  },
  {
   "cell_type": "code",
   "execution_count": null,
   "metadata": {
    "ExecuteTime": {
     "start_time": "2022-08-22T07:50:35.042Z"
    }
   },
   "outputs": [],
   "source": [
    "%%R -i X -i y\n",
    "df = data.frame(X,y)\n",
    "train <- df[1:round(dim(df)[1]*0.9),]\n",
    "test <- df[1:(dim(df)[1]-round(dim(df)[1]*0.9)),]\n",
    "glm_model <- glm(y~., data = train, family='binomial')\n",
    "summary(glm_model)"
   ]
  },
  {
   "cell_type": "markdown",
   "metadata": {},
   "source": [
    "There is no exact equivalent to the $R^2$ for logisitc regression, however the McFadden $R^2$ index can be used.\n",
    "\n",
    "-> Above chance sensitivity/specificity (F_score, balanced accuracy>0.5), above the frequency of the class fequencies.\n",
    "\n",
    "Permutation testing. \n",
    "weight (by class frequencies) "
   ]
  },
  {
   "cell_type": "code",
   "execution_count": null,
   "metadata": {
    "ExecuteTime": {
     "start_time": "2022-08-22T07:50:35.119Z"
    }
   },
   "outputs": [],
   "source": [
    "%%R \n",
    "library(pscl)\n"
   ]
  },
  {
   "cell_type": "markdown",
   "metadata": {},
   "source": [
    "### Assessing predictive ability model"
   ]
  },
  {
   "cell_type": "code",
   "execution_count": null,
   "metadata": {
    "ExecuteTime": {
     "start_time": "2022-08-22T07:50:35.195Z"
    }
   },
   "outputs": [],
   "source": [
    "%%R\n",
    "fitted.results <- predict(glm_model, newdata=test[1:length(test)-1])\n",
    "fitted.results <- ifelse(fitted.results>0.5,1,0)\n",
    "mis_class_error <- mean(fitted.results != test$y)\n",
    "print(paste('Accuracy',1-mis_class_error))"
   ]
  },
  {
   "cell_type": "markdown",
   "metadata": {},
   "source": [
    "### ROC\n",
    "For the last stap, we are going to look at the ROC curve and THE AUC (area under the curve). The closer the AUC is to 1, the better."
   ]
  },
  {
   "cell_type": "code",
   "execution_count": null,
   "metadata": {
    "ExecuteTime": {
     "start_time": "2022-08-22T07:50:35.270Z"
    }
   },
   "outputs": [],
   "source": [
    "%%R \n",
    "library('ROCR')\n",
    "p <- predict(glm_model, newdata=test[1:length(test)-1], type=\"response\")\n",
    "pr <- prediction(p, test$y)\n",
    "prf <- performance(pr, measure = \"tpr\", x.measure = \"fpr\")\n",
    "plot(prf)\n",
    "auc <- performance(pr, measure = \"auc\")\n",
    "auc <- auc@y.values[[1]]\n",
    "auc"
   ]
  },
  {
   "cell_type": "markdown",
   "metadata": {},
   "source": [
    "# Firth's logistic regression\n",
    "Firth's logistic regression usues the square root of the determinant of the FIsher Information Matrix as the penalty. It can be thought of the inverse of the amount of information the data contains. brglm_fit implements a quasi Fisher scoring procedure, whose special cases result in a range of explicit and implicit bias reduction methods for generalized linear models (see also: https://github.com/ikosmidis/brglm2).\n",
    "Using logit vs probit regression: https://tutorials.methodsconsultants.com/posts/what-is-the-difference-between-logit-and-probit-models/"
   ]
  },
  {
   "cell_type": "code",
   "execution_count": null,
   "metadata": {
    "ExecuteTime": {
     "start_time": "2022-08-22T07:50:35.346Z"
    },
    "run_control": {
     "marked": true
    },
    "scrolled": false
   },
   "outputs": [],
   "source": [
    "%%R \n",
    "library(brglm2)\n",
    "model_brglm <- glm(y~., data = train, family= 'binomial', method = \"brglm_fit\")\n",
    "summary(model_brglm)"
   ]
  },
  {
   "cell_type": "markdown",
   "metadata": {},
   "source": [
    "### Assesing predictive ability"
   ]
  },
  {
   "cell_type": "code",
   "execution_count": null,
   "metadata": {
    "ExecuteTime": {
     "start_time": "2022-08-22T07:50:35.422Z"
    }
   },
   "outputs": [],
   "source": [
    "%%R\n",
    "pR2(model_brglm)"
   ]
  },
  {
   "cell_type": "code",
   "execution_count": null,
   "metadata": {
    "ExecuteTime": {
     "start_time": "2022-08-22T07:50:35.427Z"
    }
   },
   "outputs": [],
   "source": [
    "%%R\n",
    "fitted.results <- predict(model_brglm, newdata=test[1:length(test)-1])\n",
    "fitted.results <- ifelse(fitted.results>0.5,1,0)\n",
    "mis_class_error <- mean(fitted.results != test$y)\n",
    "print(paste('Accuracy',1-mis_class_error))"
   ]
  },
  {
   "cell_type": "code",
   "execution_count": null,
   "metadata": {
    "ExecuteTime": {
     "start_time": "2022-08-22T07:50:35.431Z"
    }
   },
   "outputs": [],
   "source": [
    "%%R \n",
    "p <- predict(model_brglm, newdata=test[1:length(test)-1], type=\"response\")\n",
    "pr <- prediction(p, test$y)\n",
    "prf <- performance(pr, measure = \"tpr\", x.measure = \"fpr\")\n",
    "plot(prf)\n",
    "auc <- performance(pr, measure = \"auc\")\n",
    "auc <- auc@y.values[[1]]\n",
    "auc"
   ]
  },
  {
   "cell_type": "markdown",
   "metadata": {},
   "source": [
    "Use junix /home/preclineu/chafra/Desktop/code_phd/EVT/MVET_behavioural_validation.ipynb -o /home/preclineu/chafra/Desktop/code_phd/EVT/images\n",
    "in the command line to get the beautifull images. "
   ]
  }
 ],
 "metadata": {
  "hide_input": false,
  "interpreter": {
   "hash": "f9d832664005fc0c9a2a1c625e82b4be453e9740da740d2c5abb3d2f872f116f"
  },
  "kernelspec": {
   "display_name": "Python 3",
   "language": "python",
   "name": "python3"
  },
  "language_info": {
   "codemirror_mode": {
    "name": "ipython",
    "version": 3
   },
   "file_extension": ".py",
   "mimetype": "text/x-python",
   "name": "python",
   "nbconvert_exporter": "python",
   "pygments_lexer": "ipython3",
   "version": "3.8.2"
  },
  "latex_envs": {
   "LaTeX_envs_menu_present": true,
   "autoclose": false,
   "autocomplete": true,
   "bibliofile": "biblio.bib",
   "cite_by": "apalike",
   "current_citInitial": 1,
   "eqLabelWithNumbers": true,
   "eqNumInitial": 1,
   "hotkeys": {
    "equation": "Ctrl-E",
    "itemize": "Ctrl-I"
   },
   "labels_anchors": false,
   "latex_user_defs": false,
   "report_style_numbering": false,
   "user_envs_cfg": false
  },
  "toc": {
   "base_numbering": 1,
   "nav_menu": {},
   "number_sections": true,
   "sideBar": true,
   "skip_h1_title": false,
   "title_cell": "Table of Contents",
   "title_sidebar": "Contents",
   "toc_cell": false,
   "toc_position": {},
   "toc_section_display": true,
   "toc_window_display": true
  },
  "varInspector": {
   "cols": {
    "lenName": 16,
    "lenType": 16,
    "lenVar": 40
   },
   "kernels_config": {
    "python": {
     "delete_cmd_postfix": "",
     "delete_cmd_prefix": "del ",
     "library": "var_list.py",
     "varRefreshCmd": "print(var_dic_list())"
    },
    "r": {
     "delete_cmd_postfix": ") ",
     "delete_cmd_prefix": "rm(",
     "library": "var_list.r",
     "varRefreshCmd": "cat(var_dic_list()) "
    }
   },
   "types_to_exclude": [
    "module",
    "function",
    "builtin_function_or_method",
    "instance",
    "_Feature"
   ],
   "window_display": false
  }
 },
 "nbformat": 4,
 "nbformat_minor": 4
}
